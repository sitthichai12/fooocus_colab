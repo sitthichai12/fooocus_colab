{
  "cells": [
    {
      "cell_type": "markdown",
      "metadata": {
        "id": "view-in-github",
        "colab_type": "text"
      },
      "source": [
        "<a href=\"https://colab.research.google.com/github/sitthichai12/fooocus_colab/blob/main/fooocus_colab.ipynb\" target=\"_parent\"><img src=\"https://colab.research.google.com/assets/colab-badge.svg\" alt=\"Open In Colab\"/></a>"
      ]
    },
    {
      "cell_type": "code",
      "execution_count": null,
      "metadata": {
        "id": "VjYy0F2gZIPR"
      },
      "outputs": [],
      "source": [
        "!pip install pygit2==1.12.2\n",
        "%cd /content\n",
        "!git clone https://huggingface.co/jamester12/Fooocus2.6.5\n",
        "%cd /content/Fooocus2.6.5"
      ]
    },
    {
      "cell_type": "code",
      "source": [
        "!wget -O /content/Fooocus2.6.5/models/checkpoints/wai_NSFW_Illustrious_v140.safetensors https://huggingface.co/jamester12/checkpoints/resolve/main/wai_NSFW_Illustrious_v140.safetensors?download=true\n",
        "!wget -O /content/Fooocus2.6.5/models/checkpoints/goodfitIllustrious3D_v10.safetensors https://huggingface.co/jamester12/checkpoints/resolve/main/goodfitIllustrious3D_v10.safetensors?download=true\n",
        "!wget -O /content/Fooocus2.6.5/models/checkpoints/blendermix_v20.safetensors https://huggingface.co/jamester12/checkpoints/resolve/main/blendermix_v20.safetensors?download=true"
      ],
      "metadata": {
        "id": "slAZx2VfyEy2"
      },
      "execution_count": null,
      "outputs": []
    },
    {
      "cell_type": "code",
      "source": [
        "!python entry_with_update.py --share --always-high-vram"
      ],
      "metadata": {
        "id": "8dTTjBkfW044"
      },
      "execution_count": null,
      "outputs": []
    }
  ],
  "metadata": {
    "accelerator": "GPU",
    "colab": {
      "gpuType": "T4",
      "provenance": [],
      "include_colab_link": true
    },
    "kernelspec": {
      "display_name": "Python 3",
      "name": "python3"
    },
    "language_info": {
      "name": "python"
    }
  },
  "nbformat": 4,
  "nbformat_minor": 0
}